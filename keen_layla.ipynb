{
 "cells": [
  {
   "cell_type": "code",
   "execution_count": 79,
   "metadata": {},
   "outputs": [
    {
     "name": "stdout",
     "output_type": "stream",
     "text": [
      "/home/layla/instWork/python_job/layla_recommender\n",
      "/home/layla/instWork/python_job/layla_recommender/tmp/\n"
     ]
    }
   ],
   "source": [
    "import pandas as pd\n",
    "import timeit\n",
    "import random\n",
    "from collections import defaultdict\n",
    "import csv\n",
    "import math\n",
    "import numpy as np\n",
    "import sys\n",
    "import os\n",
    "import matplotlib as mplt\n",
    "#from matplotlib import pylab\n",
    "#import pylab \n",
    "import scipy\n",
    "import scipy.stats as stats\n",
    "import sklearn\n",
    "import statsmodels as stmd\n",
    "import pdb\n",
    "import os\n",
    "from datetime import datetime, timedelta\n",
    "import pickle\n",
    "\n",
    "global mypath\n",
    "global dspath\n",
    "\n",
    "mypath=os.getcwd()\n",
    "dspath = mypath + '/tmp/'\n",
    "logpath = mypath + '/log/'\n",
    "\n",
    "#create workDir if not exis\n",
    "os.system(\"mkdir -p \" + dspath)\n",
    "os.system(\"mkdir -p \" + logpath)\n",
    "#!ls -lrt {logpath}\n",
    "print (mypath)\n",
    "print (dspath)"
   ]
  },
  {
   "cell_type": "code",
   "execution_count": 80,
   "metadata": {},
   "outputs": [
    {
     "name": "stdout",
     "output_type": "stream",
     "text": [
      "Keen data start date: 2018-03-06\n",
      "Keen data end date: 2018-03-20\n"
     ]
    }
   ],
   "source": [
    "from datetime import datetime, timedelta\n",
    "\n",
    "today = datetime.now()\n",
    "today_str= today.strftime('%Y-%m-%d')\n",
    "today_str2 = today.strftime('%Y-%m-%d %H:%M:%S')\n",
    "\n",
    "yesterday= today-timedelta(days=1)\n",
    "yesterday_str = yesterday.strftime('%Y-%m-%d')\n",
    "\n",
    "# pull last 14 days data\n",
    "startDate = (yesterday - timedelta(days=14)).strftime('%Y-%m-%d')\n",
    "endDate = yesterday_str\n",
    "\n",
    "\n",
    "print (('Keen data start date: %s') % startDate)\n",
    "print (('Keen data end date: %s') % endDate)"
   ]
  },
  {
   "cell_type": "code",
   "execution_count": 81,
   "metadata": {},
   "outputs": [],
   "source": [
    "import requests\n",
    "import pprint\n",
    "import csv\n",
    "import sys\n",
    "import json\n",
    "import pymysql\n",
    "import time\n",
    "\n",
    "from datetime import datetime\n",
    "import getpass\n",
    "from pymongo import MongoClient\n",
    "\n",
    "t0 = time.clock()\n",
    "\n",
    "pp = pprint.PrettyPrinter(indent=4)\n"
   ]
  },
  {
   "cell_type": "code",
   "execution_count": 84,
   "metadata": {},
   "outputs": [],
   "source": [
    "def keen_api():\n",
    "\n",
    "\tapi_key = '88fc63c20731c2f09ea44ca264c3043d5403f78329a42a2b435690e94c39dff5d5ae487052e1d583c2dccf5b64cfc9add1c0cc6bb9a661cc91df4d0e545f8ad0ec1d831981907c44bc4ba7f1b062711aadec6e7549800042076726d73dadc454'\n",
    "\n",
    "\tapi_url = 'https://api.keen.io/3.0/projects/56ddffe896773d7e98d63393/queries/count?api_key=' + api_key \n",
    "\n",
    "\tdata = {'event_collection': 'answerQuestion',\n",
    "\t\t\t'timezone': 'UTC',\n",
    "\t\t\t'group_by': ['request.siteUUID', 'questionUUID'],\n",
    "\t\t\t# 'latest': 1000,\n",
    "\t\t\t'timeframe': 'previous_14_days',\n",
    "\t\t\t# {'start': '2018-2-27T00:00:01.000Z', 'end': '2018-2-29T00:00:01.000Z'}\n",
    "\t\t\t# 'this_1_days',\n",
    "\t\t\t# 'property_names': ['questionUUID', 'questionOptionUUID', 'type', 'request.siteUUID'],\n",
    "\t\t\t# 'filter' : []\n",
    "\t\t\t}\n",
    "\n",
    "\ttokenHeaders = {'Content-Type': 'application/json'}\n",
    "\n",
    "\tresponse = requests.post(api_url, params = data, headers=tokenHeaders)\n",
    "\tprint (response)\n",
    "\n",
    "\tkeen = response.json()['result']\n",
    "\n",
    "\treturn keen\n",
    "\n",
    "def SQL():\n",
    "\n",
    "\tSQL_list = []\n",
    "\n",
    "\tcount = 0\n",
    "\tfor database in [\"EMBED\", \"EVERTEST\", \"EVERTEST\"]:\n",
    "\t\t# \"EMBED\", \"EVERTEST\", \n",
    "\t\tif count == 0:\n",
    "\t\t\tSQL = \"SELECT s.siteUUID, s.siteURL  \\\n",
    "\t\t\t\t\tfrom SITE as s;\"\n",
    "\t\telif count == 1:\n",
    "\t\t\tSQL = \"SELECT p.PredictionUUID, p.PredictionTitle \\\n",
    "\t\t\t\t   from EVERTEST.PREDICTIONS as p;\"\n",
    "\t\telse:\n",
    "\t\t\tSQL = \"SELECT p.PredictionUUID as QuestionUUID, t.TVShowTitle as Category \\\n",
    "\t\t\t\t\tfrom EVERTEST.PREDICTIONS as p \t\t\t\t\t\t\t\t\t\\\n",
    "\t\t\t\t\tjoin EVERTEST.HASHTAGRELATIONSHIP as h ON p.PredictionUUID = h.PredictionUUID  \\\n",
    "\t\t\t\t\tjoin EVERTEST.TVSHOW as t ON t.TVShowUUID = SUBSTR(h.HashTagText, 2)\"\n",
    "\n",
    "\t\tdb = pymysql.connect(host=\"prod-read-replica.cpbybmeoadzj.us-east-1.rds.amazonaws.com\",    # your host, usually localhost\n",
    "\t\t\t\t\t\t\t\tuser=\"readonly\",         # your username\n",
    "\t\t\t\t\t\t\t\tpasswd=\"rdslionking12\",  # your password\n",
    "\t\t\t\t\t\t\t\tdb=database)        # name of the data base\n",
    "\n",
    "\t\tcur = db.cursor()\n",
    "\n",
    "\t\tcur.execute(SQL)\n",
    "\n",
    "\t\tmatch_dict = {}\n",
    "\t\tfor row in cur.fetchall():\n",
    "\t\t\tmatch_dict.update({row[0]:row[1]})\n",
    "\n",
    "\t\tSQL_list.append(match_dict)\n",
    "\n",
    "\t\tcount += 1\n",
    "\n",
    "\treturn SQL_list\n"
   ]
  },
  {
   "cell_type": "code",
   "execution_count": 83,
   "metadata": {},
   "outputs": [
    {
     "name": "stdout",
     "output_type": "stream",
     "text": [
      "8836\n",
      "246874\n",
      "198775\n"
     ]
    }
   ],
   "source": [
    "siteUUID_sites = SQL()[0]\n",
    "print (len(siteUUID_sites))\n",
    "\n",
    "questionUUID_question = SQL()[1]\n",
    "print (len(questionUUID_question))\n",
    "\n",
    "questionUUID_type = SQL()[2]\n",
    "print (len(questionUUID_type))"
   ]
  },
  {
   "cell_type": "code",
   "execution_count": 86,
   "metadata": {},
   "outputs": [],
   "source": [
    "def formatPageViewsData(queryData):\n",
    "\tformatted_pageViewsData = {}\n",
    "\tfor entry in queryData:\n",
    "\t\tsiteUUID = entry['_id']['siteUUID']\n",
    "\t\tvalue = entry['embedPageViews']\n",
    "\t\tformatted_pageViewsData.update({siteUUID : value})\n",
    "\treturn formatted_pageViewsData\n",
    "\n",
    "def getPageViewsData():\n",
    "\n",
    "\t# Connect to production database\n",
    "\tclient = MongoClient('ds015876-a0.mlab.com', 15876)\n",
    "\tdb = client.analysis\n",
    "\tdb.authenticate('analysist001', 'analysistrocks321', source='analysis')\n",
    "\n",
    "\tcollections = client.analysis.revenuedata\n",
    "\t\n",
    "\tpipeline = [{'$match':{'date':{'$gte':startDate,'$lte': endDate}}},{'$group':{'_id':{'siteUUID':'$siteUUID'}, 'embedPageViews':{'$sum':'$embedPageViews'}}}]\n",
    "\n",
    "\t# Fire query to get data\n",
    "\tpageViewsData = collections.aggregate(pipeline)\n",
    "\t\n",
    "\t# Format query results\n",
    "\tformatted_pageViewsData = formatPageViewsData(pageViewsData)\n",
    "\n",
    "\treturn formatted_pageViewsData"
   ]
  },
  {
   "cell_type": "code",
   "execution_count": 87,
   "metadata": {},
   "outputs": [],
   "source": [
    "#### Main call to fetch data#####\n",
    "'''\n",
    "this is a dict\n",
    "'''\n",
    "pageview = getPageViewsData()"
   ]
  },
  {
   "cell_type": "code",
   "execution_count": 73,
   "metadata": {},
   "outputs": [
    {
     "data": {
      "text/plain": [
       "2915"
      ]
     },
     "execution_count": 73,
     "metadata": {},
     "output_type": "execute_result"
    }
   ],
   "source": [
    "len(list(pageview.keys()))"
   ]
  },
  {
   "cell_type": "code",
   "execution_count": 76,
   "metadata": {},
   "outputs": [],
   "source": [
    "first_key = list(pageview.keys())[0:10]\n",
    "first_val = list(pageview.values())[0]"
   ]
  },
  {
   "cell_type": "code",
   "execution_count": null,
   "metadata": {},
   "outputs": [],
   "source": [
    "pageview['206d8fc1-f211-4c05-9dc7-e8472052673c']"
   ]
  },
  {
   "cell_type": "code",
   "execution_count": null,
   "metadata": {},
   "outputs": [],
   "source": [
    "first_key"
   ]
  },
  {
   "cell_type": "code",
   "execution_count": 102,
   "metadata": {},
   "outputs": [],
   "source": [
    "def data_combined(keen_file):\n",
    "\n",
    "\tcount = 0\n",
    "\twith open(keen_file, \"wb\") as f:\n",
    "\t\twriter = csv.writer(f)\n",
    "\n",
    "\t\tfor val in keen_api():\n",
    "\t\t\t# val['request'] = val['request']['siteUUID']\n",
    "\t\t\t# val['request.siteUUID'] = val.pop('request')\n",
    "\n",
    "\t\t\tsiteUUID = val['request.siteUUID']\n",
    "\t\t\tquestionUUID = val['questionUUID']\n",
    "\t\t\tclick = val['result']\n",
    "\t\t\tif siteUUID in siteUUID_sites.keys():\n",
    "\t\t\t\tval.update({'site': siteUUID_sites[siteUUID]})\n",
    "\t\t\t\tval.update({'pageview': pageview[siteUUID]})\n",
    "\t\t\telse:\n",
    "\t\t\t\tval.update({'site': 'null'})\n",
    "\t\t\t\tval.update({'pageview': 0})\n",
    "\t\t\tpageview1 = val['pageview']\n",
    "\t\t\tval.update({'question': questionUUID_question[questionUUID]})\n",
    "\t\t\tif pageview1 > 0:\n",
    "\t\t\t\tval.update({'engagement_rate': float(click) / int(pageview1) * 10000000})\n",
    "\t\t\telse:\n",
    "\t\t\t\tval.update({'engagement_rate': 0})\n",
    "\n",
    "\t\t\tif questionUUID in questionUUID_type.keys():\n",
    "\t\t\t\tval.update({'question_type': questionUUID_type[questionUUID]})\n",
    "\t\t\telse:\n",
    "\t\t\t\tval.update({'question_type': 'null'})\n",
    "\n",
    "\t\t\tif count == 0:\n",
    "\t\t\t\tcontinue                \n",
    "# \t\t\t\theader = val.keys()\n",
    "# \t\t\t\twriter.writerow(header)\n",
    "\n",
    "\t\t\t\tcount += 1\n",
    "\t\t\twriter.writerow(val.values())\n",
    "\tprint(\"Writing complete\")\n",
    "\n"
   ]
  },
  {
   "cell_type": "code",
   "execution_count": 104,
   "metadata": {},
   "outputs": [
    {
     "name": "stdout",
     "output_type": "stream",
     "text": [
      "<Response [200]>\n"
     ]
    },
    {
     "ename": "KeyError",
     "evalue": "'06cf6279-338e-4b34-adf4-97c418b5a962'",
     "output_type": "error",
     "traceback": [
      "\u001b[0;31m---------------------------------------------------------------------------\u001b[0m",
      "\u001b[0;31mKeyError\u001b[0m                                  Traceback (most recent call last)",
      "\u001b[0;32m<ipython-input-104-f95defabef8e>\u001b[0m in \u001b[0;36m<module>\u001b[0;34m()\u001b[0m\n\u001b[1;32m      1\u001b[0m \u001b[0mkeen_write2csv\u001b[0m\u001b[0;34m=\u001b[0m \u001b[0mmypath\u001b[0m \u001b[0;34m+\u001b[0m \u001b[0;34m'/keen_v2.csv'\u001b[0m\u001b[0;34m\u001b[0m\u001b[0m\n\u001b[0;32m----> 2\u001b[0;31m \u001b[0mdata_combined_pulled\u001b[0m \u001b[0;34m=\u001b[0m \u001b[0mdata_combined\u001b[0m\u001b[0;34m(\u001b[0m\u001b[0mkeen_write2csv\u001b[0m\u001b[0;34m)\u001b[0m\u001b[0;34m\u001b[0m\u001b[0m\n\u001b[0m",
      "\u001b[0;32m<ipython-input-102-72e7f3f62e51>\u001b[0m in \u001b[0;36mdata_combined\u001b[0;34m(keen_file)\u001b[0m\n\u001b[1;32m     14\u001b[0m                         \u001b[0;32mif\u001b[0m \u001b[0msiteUUID\u001b[0m \u001b[0;32min\u001b[0m \u001b[0msiteUUID_sites\u001b[0m\u001b[0;34m.\u001b[0m\u001b[0mkeys\u001b[0m\u001b[0;34m(\u001b[0m\u001b[0;34m)\u001b[0m\u001b[0;34m:\u001b[0m\u001b[0;34m\u001b[0m\u001b[0m\n\u001b[1;32m     15\u001b[0m                                 \u001b[0mval\u001b[0m\u001b[0;34m.\u001b[0m\u001b[0mupdate\u001b[0m\u001b[0;34m(\u001b[0m\u001b[0;34m{\u001b[0m\u001b[0;34m'site'\u001b[0m\u001b[0;34m:\u001b[0m \u001b[0msiteUUID_sites\u001b[0m\u001b[0;34m[\u001b[0m\u001b[0msiteUUID\u001b[0m\u001b[0;34m]\u001b[0m\u001b[0;34m}\u001b[0m\u001b[0;34m)\u001b[0m\u001b[0;34m\u001b[0m\u001b[0m\n\u001b[0;32m---> 16\u001b[0;31m                                 \u001b[0mval\u001b[0m\u001b[0;34m.\u001b[0m\u001b[0mupdate\u001b[0m\u001b[0;34m(\u001b[0m\u001b[0;34m{\u001b[0m\u001b[0;34m'pageview'\u001b[0m\u001b[0;34m:\u001b[0m \u001b[0mpageview\u001b[0m\u001b[0;34m[\u001b[0m\u001b[0msiteUUID\u001b[0m\u001b[0;34m]\u001b[0m\u001b[0;34m}\u001b[0m\u001b[0;34m)\u001b[0m\u001b[0;34m\u001b[0m\u001b[0m\n\u001b[0m\u001b[1;32m     17\u001b[0m                         \u001b[0;32melse\u001b[0m\u001b[0;34m:\u001b[0m\u001b[0;34m\u001b[0m\u001b[0m\n\u001b[1;32m     18\u001b[0m                                 \u001b[0mval\u001b[0m\u001b[0;34m.\u001b[0m\u001b[0mupdate\u001b[0m\u001b[0;34m(\u001b[0m\u001b[0;34m{\u001b[0m\u001b[0;34m'site'\u001b[0m\u001b[0;34m:\u001b[0m \u001b[0;34m'null'\u001b[0m\u001b[0;34m}\u001b[0m\u001b[0;34m)\u001b[0m\u001b[0;34m\u001b[0m\u001b[0m\n",
      "\u001b[0;31mKeyError\u001b[0m: '06cf6279-338e-4b34-adf4-97c418b5a962'"
     ]
    }
   ],
   "source": [
    "keen_write2csv= mypath + '/keen_v2.csv'\n",
    "\n",
    "data_combined_pulled = data_combined(keen_write2csv)\n",
    "\n",
    "\n",
    "t1 = time.clock()\n",
    "time_spend = t1 - t0\n",
    "print (time_spend)"
   ]
  },
  {
   "cell_type": "code",
   "execution_count": null,
   "metadata": {},
   "outputs": [],
   "source": []
  },
  {
   "cell_type": "code",
   "execution_count": null,
   "metadata": {},
   "outputs": [],
   "source": []
  },
  {
   "cell_type": "code",
   "execution_count": null,
   "metadata": {},
   "outputs": [],
   "source": []
  },
  {
   "cell_type": "code",
   "execution_count": null,
   "metadata": {},
   "outputs": [],
   "source": []
  },
  {
   "cell_type": "code",
   "execution_count": null,
   "metadata": {},
   "outputs": [],
   "source": []
  },
  {
   "cell_type": "code",
   "execution_count": null,
   "metadata": {},
   "outputs": [],
   "source": []
  },
  {
   "cell_type": "code",
   "execution_count": null,
   "metadata": {},
   "outputs": [],
   "source": []
  }
 ],
 "metadata": {
  "kernelspec": {
   "display_name": "Python 3",
   "language": "python",
   "name": "python3"
  },
  "language_info": {
   "codemirror_mode": {
    "name": "ipython",
    "version": 3
   },
   "file_extension": ".py",
   "mimetype": "text/x-python",
   "name": "python",
   "nbconvert_exporter": "python",
   "pygments_lexer": "ipython3",
   "version": "3.6.3"
  }
 },
 "nbformat": 4,
 "nbformat_minor": 2
}
